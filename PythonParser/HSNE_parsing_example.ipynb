{
 "cells": [
  {
   "cell_type": "markdown",
   "metadata": {},
   "source": [
    "## Example of how to use HSNE Python parser for reading HSNE hierarchies\n",
    "Limited explanation on how an HSNE hierarchy is structured"
   ]
  },
  {
   "cell_type": "code",
   "execution_count": 7,
   "metadata": {},
   "outputs": [],
   "source": [
    "from HSNE_parser import read_HSNE_binary\n",
    "import pandas as pd\n",
    "import numpy as np"
   ]
  },
  {
   "cell_type": "markdown",
   "metadata": {},
   "source": [
    "Inside /High_dimensional_inspector, run:\n",
    "\n",
    "    ../build/applications/command_line_tools/hsne_cmd MNIST_1000.bin 1000 784 -a mnist\n",
    "    \n",
    "\n",
    "To generate mnist.hsne, an HSNE hierarchy created from 1000 samples of the MNIST dataset. This sample is provided inside HSNE-clustering/High_dimensional_inspector/data.\n",
    "\n",
    "Read the hierarchy from a HSNE binary file and print progress:"
   ]
  },
  {
   "cell_type": "code",
   "execution_count": 8,
   "metadata": {},
   "outputs": [
    {
     "name": "stdout",
     "output_type": "stream",
     "text": [
      "Number of scales 3\n",
      "Start reading first scale of size 1000\n",
      "Done reading first scale..\n",
      "\n",
      "Next scale: 1\n",
      "Scale size: 236\n",
      "Reading transmatrix..\n",
      "Reading landmarks of scale to original data..\n",
      "Reading landmarks to previous scale..\n",
      "Reading landmark weights..\n",
      "Reading previous scale to current scale..\n",
      "Reading area of influence..\n",
      "\n",
      "Next scale: 2\n",
      "Scale size: 29\n",
      "Reading transmatrix..\n",
      "Reading landmarks of scale to original data..\n",
      "Reading landmarks to previous scale..\n",
      "Reading landmark weights..\n",
      "Reading previous scale to current scale..\n",
      "Reading area of influence..\n",
      "Total time spent parsing hierarchy and building objects: 0.068511\n"
     ]
    }
   ],
   "source": [
    "hsne = read_HSNE_binary(filename=\"./sample_data/mnis_aoi.hsne\", verbose=True)"
   ]
  },
  {
   "cell_type": "code",
   "execution_count": 9,
   "metadata": {},
   "outputs": [
    {
     "data": {
      "text/plain": [
       "3"
      ]
     },
     "execution_count": 9,
     "metadata": {},
     "output_type": "execute_result"
    }
   ],
   "source": [
    "# How many scales do I have?\n",
    "hsne.num_scales"
   ]
  },
  {
   "cell_type": "markdown",
   "metadata": {},
   "source": [
    "1 data scale and 2 landmarkscales"
   ]
  },
  {
   "cell_type": "code",
   "execution_count": 10,
   "metadata": {},
   "outputs": [
    {
     "name": "stdout",
     "output_type": "stream",
     "text": [
      "HSNE datascale 0 with 1000 datapoints\n",
      "HSNE subscale 1 with 236 datapoints\n",
      "HSNE subscale 2 with 29 datapoints\n"
     ]
    }
   ],
   "source": [
    "for scale in hsne:\n",
    "    print(scale)"
   ]
  },
  {
   "cell_type": "markdown",
   "metadata": {},
   "source": [
    "Intra scale similarities are stored in scale.tmatrix, a sparse matrix of size: scalesize * scalesize:"
   ]
  },
  {
   "cell_type": "code",
   "execution_count": 11,
   "metadata": {},
   "outputs": [
    {
     "data": {
      "text/plain": [
       "<1000x1000 sparse matrix of type '<class 'numpy.float64'>'\n",
       "\twith 30000 stored elements in COOrdinate format>"
      ]
     },
     "execution_count": 11,
     "metadata": {},
     "output_type": "execute_result"
    }
   ],
   "source": [
    "#scale 0 is just a k=30 knn graph\n",
    "hsne[0].tmatrix"
   ]
  },
  {
   "cell_type": "code",
   "execution_count": 12,
   "metadata": {},
   "outputs": [
    {
     "data": {
      "text/plain": [
       "<236x236 sparse matrix of type '<class 'numpy.float64'>'\n",
       "\twith 11445 stored elements in COOrdinate format>"
      ]
     },
     "execution_count": 12,
     "metadata": {},
     "output_type": "execute_result"
    }
   ],
   "source": [
    "hsne[1].tmatrix"
   ]
  },
  {
   "cell_type": "markdown",
   "metadata": {},
   "source": [
    "Inter scale similarities are stored in scale.area_of_influence (datascale does not have an area of inluence). A sparse matrix of size previous scale * current scale:"
   ]
  },
  {
   "cell_type": "code",
   "execution_count": 13,
   "metadata": {},
   "outputs": [
    {
     "data": {
      "text/plain": [
       "<1000x236 sparse matrix of type '<class 'numpy.float64'>'\n",
       "\twith 37321 stored elements in Compressed Sparse Column format>"
      ]
     },
     "execution_count": 13,
     "metadata": {},
     "output_type": "execute_result"
    }
   ],
   "source": [
    "hsne[1].area_of_influence"
   ]
  },
  {
   "cell_type": "markdown",
   "metadata": {},
   "source": [
    "Landmark information is stored in each scale (not the datascale) of the hsne object:"
   ]
  },
  {
   "cell_type": "code",
   "execution_count": 14,
   "metadata": {},
   "outputs": [
    {
     "data": {
      "text/plain": [
       "[1, 3, 8, 14, 17, 23, 26, 39, 40, 42, 43, 57, 72, 74, 95, 96, 97, 98, 102, 103]"
      ]
     },
     "execution_count": 14,
     "metadata": {},
     "output_type": "execute_result"
    }
   ],
   "source": [
    "# Which original datapoint is each landmark?\n",
    "# Landmark #0 in this scale was originally datapoint #1\n",
    "hsne[1].lm_to_original[:20]"
   ]
  },
  {
   "cell_type": "code",
   "execution_count": 15,
   "metadata": {},
   "outputs": [
    {
     "data": {
      "text/plain": [
       "[5,\n",
       " 6,\n",
       " 13,\n",
       " 16,\n",
       " 17,\n",
       " 30,\n",
       " 31,\n",
       " 35,\n",
       " 42,\n",
       " 43,\n",
       " 61,\n",
       " 75,\n",
       " 79,\n",
       " 104,\n",
       " 106,\n",
       " 114,\n",
       " 116,\n",
       " 117,\n",
       " 118,\n",
       " 136,\n",
       " 139,\n",
       " 140,\n",
       " 156,\n",
       " 182,\n",
       " 192,\n",
       " 194,\n",
       " 197,\n",
       " 214,\n",
       " 233]"
      ]
     },
     "execution_count": 15,
     "metadata": {},
     "output_type": "execute_result"
    }
   ],
   "source": [
    "# Which landmark in this scale was which landmark  in the previous scale?\n",
    "# Landmark #0 in this scale was landmark #5 in the previous scale\n",
    "hsne[2].lm_to_previous"
   ]
  },
  {
   "cell_type": "markdown",
   "metadata": {},
   "source": [
    "### important !\n",
    "For each landmark on the previous scale, which point on this scale best represents it?\n",
    "\n",
    "So original datapoint #0 is best represented by landmark #192 on scale 1.\n",
    "Also, landmark #0 on scale 1 is best represented by landmark #12 on scale 2:\n"
   ]
  },
  {
   "cell_type": "code",
   "execution_count": 16,
   "metadata": {},
   "outputs": [
    {
     "name": "stdout",
     "output_type": "stream",
     "text": [
      "[192 153 106   5 231 229  37  31 104 225]\n",
      "[12  0 13 13  3  0 22 18 13 22]\n"
     ]
    }
   ],
   "source": [
    "\n",
    "print(hsne[1].best_representatives[0:10])\n",
    "print(hsne[2].best_representatives[0:10])"
   ]
  },
  {
   "cell_type": "code",
   "execution_count": 17,
   "metadata": {},
   "outputs": [
    {
     "data": {
      "text/plain": [
       "array([12,  0, 13, 13,  3,  0, 22, 18, 13, 22, 22, 28, 13,  4, 12, 22,  3,\n",
       "        2, 13, 23, 13, 13, 28, 20, 12, 13, 24, 18, 13, 28, 15,  8, 16, 28,\n",
       "       12, 20,  4, 13, 24, 24,  3, 27,  6, 19,  1, 23, 21,  6, 23,  3,  1,\n",
       "        6, 28, 22, 15, 23,  3,  1, 25,  9,  4, 17,  1, 28, 13,  6,  3, 28,\n",
       "       23, 12, 23, 23, 13, 18, 22, 27, 21, 28,  8, 12,  6, 28, 26, 23, 21,\n",
       "        3, 11, 21, 20, 23,  0, 13, 13, 18,  9, 28, 21, 23, 28, 28, 23, 28,\n",
       "       18, 27, 13, 12, 28,  4, 28, 23,  1, 28, 24, 28, 18, 28, 20, 10, 15,\n",
       "        8, 22, 27,  3, 25, 18, 13, 13, 21, 24, 23,  0, 13, 23,  0, 25, 24,\n",
       "       20, 24, 25, 16, 21,  7,  3, 13,  0, 20,  1,  4, 23, 13, 22, 22, 13,\n",
       "       12,  5, 23, 23, 12, 13, 13, 24, 23,  3, 12,  6, 23, 28, 13,  8, 15,\n",
       "       23,  3, 28, 22,  6,  5, 12,  0, 23,  1,  3, 25, 22, 27, 13, 12, 27,\n",
       "        5,  8,  3, 24, 23, 24, 20, 27,  6, 20, 18, 22,  3,  5,  3, 25, 25,\n",
       "       24, 13, 23,  5, 24, 23, 12,  6, 23,  8, 25, 23,  5, 22, 27,  1,  5,\n",
       "       24, 27,  3, 12, 28,  0, 27,  3,  5, 12,  1, 24, 28, 27, 21])"
      ]
     },
     "execution_count": 17,
     "metadata": {},
     "output_type": "execute_result"
    }
   ],
   "source": [
    "hsne[2].best_representatives"
   ]
  },
  {
   "cell_type": "markdown",
   "metadata": {},
   "source": [
    "The previous cell does not show which original datapoint is best represented by points on scale 2, these best representatives can be propagated through the scales with the get_datascale_mappings() function of the full hsne object.\n",
    "\n",
    "The argument passed to get_datascale_mappings() is the scale for which you would like the mapping, scale 1 is simply the same as hsne[1].best_representatives but as a dictionary. For scale 2 the mapping gets propagated down through scale 1's best representatives.\n"
   ]
  },
  {
   "cell_type": "code",
   "execution_count": 18,
   "metadata": {},
   "outputs": [
    {
     "data": {
      "text/plain": [
       "[192,\n",
       " 153,\n",
       " 106,\n",
       " 5,\n",
       " 231,\n",
       " 229,\n",
       " 37,\n",
       " 31,\n",
       " 104,\n",
       " 225,\n",
       " 188,\n",
       " 137,\n",
       " 17,\n",
       " 216,\n",
       " 18,\n",
       " 70,\n",
       " 50,\n",
       " 162,\n",
       " 197,\n",
       " 29,\n",
       " 139,\n",
       " 185,\n",
       " 77,\n",
       " 1,\n",
       " 125,\n",
       " 42,\n",
       " 6,\n",
       " 42,\n",
       " 182,\n",
       " 129]"
      ]
     },
     "execution_count": 18,
     "metadata": {},
     "output_type": "execute_result"
    }
   ],
   "source": [
    "list(hsne.get_datascale_mappings(1).values())[:30]"
   ]
  },
  {
   "cell_type": "markdown",
   "metadata": {},
   "source": [
    "Original datapoint #0 is best represented by landmark #24 on scale 2:"
   ]
  },
  {
   "cell_type": "code",
   "execution_count": 19,
   "metadata": {},
   "outputs": [
    {
     "data": {
      "text/plain": [
       "[24,\n",
       " 12,\n",
       " 28,\n",
       " 0,\n",
       " 1,\n",
       " 5,\n",
       " 13,\n",
       " 8,\n",
       " 13,\n",
       " 28,\n",
       " 8,\n",
       " 24,\n",
       " 2,\n",
       " 5,\n",
       " 13,\n",
       " 23,\n",
       " 1,\n",
       " 3,\n",
       " 18,\n",
       " 28,\n",
       " 16,\n",
       " 12,\n",
       " 28,\n",
       " 0,\n",
       " 13,\n",
       " 6,\n",
       " 22,\n",
       " 6,\n",
       " 22,\n",
       " 23]"
      ]
     },
     "execution_count": 19,
     "metadata": {},
     "output_type": "execute_result"
    }
   ],
   "source": [
    "list(hsne.get_datascale_mappings(2).values())[:30]"
   ]
  }
 ],
 "metadata": {
  "kernelspec": {
   "display_name": "Python 3",
   "language": "python",
   "name": "python3"
  },
  "language_info": {
   "codemirror_mode": {
    "name": "ipython",
    "version": 3
   },
   "file_extension": ".py",
   "mimetype": "text/x-python",
   "name": "python",
   "nbconvert_exporter": "python",
   "pygments_lexer": "ipython3",
   "version": "3.6.5"
  }
 },
 "nbformat": 4,
 "nbformat_minor": 2
}
