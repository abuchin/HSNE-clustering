{
 "cells": [
  {
   "cell_type": "code",
   "execution_count": 1,
   "metadata": {},
   "outputs": [],
   "source": [
    "from HSNE_parser import read_HSNE_binary"
   ]
  },
  {
   "cell_type": "code",
   "execution_count": 2,
   "metadata": {},
   "outputs": [
    {
     "name": "stdout",
     "output_type": "stream",
     "text": [
      "Number of scales 3\n",
      "Start reading first scale of size 1000\n",
      "Done reading first scale..\n",
      "\n",
      "Next scale: 1\n",
      "Scale size: 236\n",
      "Reading transmatrix..\n",
      "Reading landmarks of scale to original data..\n",
      "Reading landmarks to previous scale..\n",
      "Reading landmark weights..\n",
      "Reading previous scale to current scale..\n",
      "Reading area of influence..\n",
      "Time spent converting 1D to sparse: 0.056955\n",
      "\n",
      "Next scale: 2\n",
      "Scale size: 29\n",
      "Reading transmatrix..\n",
      "Reading landmarks of scale to original data..\n",
      "Reading landmarks to previous scale..\n",
      "Reading landmark weights..\n",
      "Reading previous scale to current scale..\n",
      "Reading area of influence..\n",
      "Time spent converting 1D to sparse: 0.009051\n",
      "Total time spent parsing hierarchy and building objects: 0.207776\n"
     ]
    }
   ],
   "source": [
    "hsne = read_HSNE_binary(filename=\"./sample_data/mnis_aoi.bin\", verbose=True)"
   ]
  },
  {
   "cell_type": "code",
   "execution_count": null,
   "metadata": {},
   "outputs": [],
   "source": []
  }
 ],
 "metadata": {
  "kernelspec": {
   "display_name": "Python 3",
   "language": "python",
   "name": "python3"
  },
  "language_info": {
   "codemirror_mode": {
    "name": "ipython",
    "version": 3
   },
   "file_extension": ".py",
   "mimetype": "text/x-python",
   "name": "python",
   "nbconvert_exporter": "python",
   "pygments_lexer": "ipython3",
   "version": "3.6.5"
  }
 },
 "nbformat": 4,
 "nbformat_minor": 2
}
