{
 "cells": [
  {
   "cell_type": "markdown",
   "metadata": {},
   "source": [
    "Example of how to cluster HSNE hierarchies using Louvain clustering\n",
    "\n",
    "\n",
    "Most of these dependencies are standard toolkit for data scientists\n",
    "\n",
    "Not so standard:\n",
    "igraph: https://igraph.org/\n",
    "\n",
    "good implementation of louvain algorithm: https://louvain-igraph.readthedocs.io/en/latest/install.html\n"
   ]
  },
  {
   "cell_type": "code",
   "execution_count": 1,
   "metadata": {},
   "outputs": [],
   "source": [
    "from HSNE_parser import read_HSNE_binary\n",
    "import pandas as pd\n",
    "import numpy as np\n",
    "import igraph as ig\n",
    "import louvain\n",
    "\n",
    "import matplotlib.pyplot as plt\n",
    "import matplotlib.cm as cm\n",
    "from pylab import rcParams\n",
    "\n",
    "from sklearn.metrics import adjusted_rand_score\n",
    "from sklearn.metrics.cluster import contingency_matrix\n"
   ]
  },
  {
   "cell_type": "markdown",
   "metadata": {},
   "source": [
    "Read the hierarchy from a HSNE binary file and print progress:"
   ]
  },
  {
   "cell_type": "code",
   "execution_count": 2,
   "metadata": {},
   "outputs": [],
   "source": [
    "def run_louvain(tmatrix, **kwargs):\n",
    "    weighted = kwargs['weight']\n",
    "    sources, targets = tmatrix.nonzero()\n",
    "    edgelist = list(zip(sources.tolist(), targets.tolist()))\n",
    "    G = ig.Graph(edgelist)\n",
    "    if weighted:\n",
    "        G.es['weight'] = tmatrix.data\n",
    "        return louvain.find_partition(G, louvain.ModularityVertexPartition, weights=G.es['weight']).membership\n",
    "    else:\n",
    "        return louvain.find_partition(G, louvain.ModularityVertexPartition).membership\n"
   ]
  },
  {
   "cell_type": "code",
   "execution_count": 3,
   "metadata": {},
   "outputs": [
    {
     "name": "stdout",
     "output_type": "stream",
     "text": [
      "Number of scales 4\n",
      "Start reading first scale of size 60000\n",
      "Done reading first scale..\n",
      "\n",
      "Next scale: 1\n",
      "Scale size: 12005\n",
      "Reading transmatrix..\n",
      "Reading landmarks of scale to original data..\n",
      "Reading landmarks to previous scale..\n",
      "Reading landmark weights..\n",
      "Reading previous scale to current scale..\n",
      "Reading area of influence..\n",
      "\n",
      "Next scale: 2\n",
      "Scale size: 1765\n",
      "Reading transmatrix..\n",
      "Reading landmarks of scale to original data..\n",
      "Reading landmarks to previous scale..\n",
      "Reading landmark weights..\n",
      "Reading previous scale to current scale..\n",
      "Reading area of influence..\n",
      "\n",
      "Next scale: 3\n",
      "Scale size: 128\n",
      "Reading transmatrix..\n",
      "Reading landmarks of scale to original data..\n",
      "Reading landmarks to previous scale..\n",
      "Reading landmark weights..\n",
      "Reading previous scale to current scale..\n",
      "Reading area of influence..\n",
      "Total time spent parsing hierarchy and building objects: 4.681071\n"
     ]
    }
   ],
   "source": [
    "hsne = read_HSNE_binary(filename=\"/home/paul/Stage/LDA/Data/MNIST/mnist_no_labels_train.hsne\", verbose=True)"
   ]
  },
  {
   "cell_type": "markdown",
   "metadata": {},
   "source": [
    "Fetch raw MNIST data & labels\n",
    "\n",
    "MNIST in CSV format available at: https://pjreddie.com/projects/mnist-in-csv/"
   ]
  },
  {
   "cell_type": "code",
   "execution_count": 4,
   "metadata": {},
   "outputs": [],
   "source": [
    "# Read mnist data and put labels in seperate array\n",
    "mnist = pd.read_csv(\"/home/paul/Stage/LDA/Data/MNIST/mnist_train.csv\", header=None)\n",
    "mnist_data = mnist.drop(columns=0)\n",
    "mnist_labels = mnist[0].ravel()\n",
    "del mnist"
   ]
  },
  {
   "cell_type": "markdown",
   "metadata": {},
   "source": [
    "MNIST are handwritten digits 0-9 with each pixel corresponding to a grey value"
   ]
  },
  {
   "cell_type": "code",
   "execution_count": 5,
   "metadata": {},
   "outputs": [
    {
     "name": "stdout",
     "output_type": "stream",
     "text": [
      "Label: 5\n"
     ]
    },
    {
     "data": {
      "image/png": "[encoded data removed]",
      "text/plain": [
       "<Figure size 288x288 with 1 Axes>"
      ]
     },
     "metadata": {},
     "output_type": "display_data"
    }
   ],
   "source": [
    "rcParams['figure.figsize'] = 4, 4\n",
    "# Invert grey values for imshow()\n",
    "inverted = np.array(np.asarray([255] * len(mnist_data.iloc[0])) - mnist_data.iloc[0])\n",
    "plt.imshow(inverted.reshape(28, 28), cmap='gray')\n",
    "plt.xticks([i for i in range(28)])\n",
    "plt.yticks([i for i in range(28)])\n",
    "plt.grid(b=True)\n",
    "plt.title(\"MNIST first digit\")\n",
    "print(\"Label: %s\" % (mnist_labels[0]))\n",
    "plt.show()"
   ]
  },
  {
   "cell_type": "markdown",
   "metadata": {},
   "source": [
    "Louvain Clustering on HSNE scale 2, 1765 datapoints:\n",
    "\n",
    "note that Louvain clustering can take long on very large matrices (transition matrices of say, 200k * 200k or larger)"
   ]
  },
  {
   "cell_type": "code",
   "execution_count": 6,
   "metadata": {},
   "outputs": [],
   "source": [
    "# Find the commmunity assignments that give highest modularity\n",
    "clusters = run_louvain(hsne[1].tmatrix, weight=True)"
   ]
  },
  {
   "cell_type": "code",
   "execution_count": 7,
   "metadata": {},
   "outputs": [
    {
     "data": {
      "text/plain": [
       "{0, 1, 2, 3, 4, 5, 6, 7, 8, 9, 10, 11, 12}"
      ]
     },
     "execution_count": 7,
     "metadata": {},
     "output_type": "execute_result"
    }
   ],
   "source": [
    "# 11 clusters are found\n",
    "set(clusters)"
   ]
  },
  {
   "cell_type": "code",
   "execution_count": 8,
   "metadata": {},
   "outputs": [
    {
     "data": {
      "text/plain": [
       "[8,\n",
       " 3,\n",
       " 7,\n",
       " 6,\n",
       " 8,\n",
       " 5,\n",
       " 1,\n",
       " 6,\n",
       " 3,\n",
       " 5,\n",
       " 8,\n",
       " 12,\n",
       " 3,\n",
       " 5,\n",
       " 9,\n",
       " 2,\n",
       " 0,\n",
       " 9,\n",
       " 3,\n",
       " 7,\n",
       " 0,\n",
       " 7,\n",
       " 5,\n",
       " 6,\n",
       " 0,\n",
       " 6,\n",
       " 3,\n",
       " 3,\n",
       " 12,\n",
       " 2]"
      ]
     },
     "execution_count": 8,
     "metadata": {},
     "output_type": "execute_result"
    }
   ],
   "source": [
    "# List where index is landmark on scale and value is cluster assignment\n",
    "clusters[:30]"
   ]
  },
  {
   "cell_type": "markdown",
   "metadata": {},
   "source": [
    "Calculate rand index of clustering versus labels:"
   ]
  },
  {
   "cell_type": "code",
   "execution_count": 9,
   "metadata": {},
   "outputs": [
    {
     "data": {
      "text/plain": [
       "0.8805810376924695"
      ]
     },
     "execution_count": 9,
     "metadata": {},
     "output_type": "execute_result"
    }
   ],
   "source": [
    "landmark_truth = mnist_labels[np.array(hsne[1].lm_to_original)]\n",
    "adjusted_rand_score(clusters, landmark_truth)"
   ]
  },
  {
   "cell_type": "markdown",
   "metadata": {},
   "source": [
    "Clustering is good; contingency matrix of clustering:\n",
    "\n",
    "1's are split into 2 clusters of respectively 170 and 120 landmarks"
   ]
  },
  {
   "cell_type": "code",
   "execution_count": 10,
   "metadata": {},
   "outputs": [
    {
     "data": {
      "image/png": "[encoded data removed]",
      "text/plain": [
       "<Figure size 288x288 with 1 Axes>"
      ]
     },
     "metadata": {},
     "output_type": "display_data"
    }
   ],
   "source": [
    "plt.imshow(contingency_matrix(list(clusters), landmark_truth), cmap='Blues')\n",
    "plt.xticks([i for i in range(10)])\n",
    "plt.yticks([ i for i in range(11)])\n",
    "plt.ylabel(\"Cluster assignment\")\n",
    "plt.xlabel(\"Digit\")\n",
    "plt.grid(b=True)\n",
    "plt.show()"
   ]
  },
  {
   "cell_type": "markdown",
   "metadata": {},
   "source": [
    "Why are the 1's split into more clusters? \n",
    "\n",
    "Inspection of the average values of each cluster shows that the clustering discerns between slanted and straight 1's, the straight ones might even contain some left slanted 1's."
   ]
  },
  {
   "cell_type": "code",
   "execution_count": 14,
   "metadata": {},
   "outputs": [],
   "source": [
    "mask1 = np.array(clusters) == 7\n",
    "mask2 = np.array(clusters) == 8\n",
    "landmarks1 = np.array(hsne[1].lm_to_original)[mask1]\n",
    "landmarks2 = np.array(hsne[1].lm_to_original)[mask2]"
   ]
  },
  {
   "cell_type": "code",
   "execution_count": 15,
   "metadata": {},
   "outputs": [
    {
     "data": {
      "image/png": "[encoded data removed]",
      "text/plain": [
       "<Figure size 288x288 with 1 Axes>"
      ]
     },
     "metadata": {},
     "output_type": "display_data"
    }
   ],
   "source": [
    "sum(mnist_data.iloc[landmarks1].values) / len(landmarks1)\n",
    "rcParams['figure.figsize'] = 4, 4\n",
    "# Invert grey values for imshow()\n",
    "\n",
    "inverted = np.array(np.asarray([255] * len(mnist_data.iloc[0])) - sum(mnist_data.iloc[landmarks1].values) / len(landmarks1))\n",
    "plt.imshow(inverted.reshape(28, 28), cmap='gray')\n",
    "plt.xticks([i for i in range(28)])\n",
    "plt.yticks([i for i in range(28)])\n",
    "plt.grid(b=True)\n",
    "plt.title(\"MNIST average digit of cluster 7\")\n",
    "plt.show()"
   ]
  },
  {
   "cell_type": "code",
   "execution_count": 16,
   "metadata": {},
   "outputs": [
    {
     "data": {
      "image/png": "[encoded data removed]",
      "text/plain": [
       "<Figure size 288x288 with 1 Axes>"
      ]
     },
     "metadata": {},
     "output_type": "display_data"
    }
   ],
   "source": [
    "sum(mnist_data.iloc[landmarks2].values) / len(landmarks2)\n",
    "rcParams['figure.figsize'] = 4, 4\n",
    "# Invert grey values for imshow()\n",
    "\n",
    "inverted = np.array(np.asarray([255] * len(mnist_data.iloc[0])) - sum(mnist_data.iloc[landmarks2].values) / len(landmarks1))\n",
    "plt.imshow(inverted.reshape(28, 28), cmap='gray')\n",
    "plt.xticks([i for i in range(28)])\n",
    "plt.yticks([i for i in range(28)])\n",
    "plt.grid(b=True)\n",
    "plt.title(\"MNIST average digit of cluster 8\")\n",
    "plt.show()"
   ]
  },
  {
   "cell_type": "markdown",
   "metadata": {},
   "source": [
    "# For how to propagate clustering of a scale back to each original datapoint, see the Markov clustering example notebook in this repository"
   ]
  }
 ],
 "metadata": {
  "kernelspec": {
   "display_name": "Python 3",
   "language": "python",
   "name": "python3"
  },
  "language_info": {
   "codemirror_mode": {
    "name": "ipython",
    "version": 3
   },
   "file_extension": ".py",
   "mimetype": "text/x-python",
   "name": "python",
   "nbconvert_exporter": "python",
   "pygments_lexer": "ipython3",
   "version": "3.6.5"
  }
 },
 "nbformat": 4,
 "nbformat_minor": 2
}
